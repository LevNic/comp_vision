{
 "cells": [
  {
   "cell_type": "code",
   "execution_count": 1,
   "metadata": {},
   "outputs": [],
   "source": [
    "import warnings\n",
    "warnings.filterwarnings('ignore')"
   ]
  },
  {
   "cell_type": "code",
   "execution_count": 7,
   "metadata": {},
   "outputs": [],
   "source": [
    "import tensorflow as tf"
   ]
  },
  {
   "cell_type": "code",
   "execution_count": 9,
   "metadata": {},
   "outputs": [
    {
     "data": {
      "text/plain": [
       "'2.3.1'"
      ]
     },
     "execution_count": 9,
     "metadata": {},
     "output_type": "execute_result"
    }
   ],
   "source": [
    "tf.__version__"
   ]
  },
  {
   "cell_type": "code",
   "execution_count": 10,
   "metadata": {},
   "outputs": [],
   "source": [
    "%matplotlib inline\n",
    "import matplotlib.pyplot as plt\n",
    "import numpy as np"
   ]
  },
  {
   "cell_type": "code",
   "execution_count": 11,
   "metadata": {},
   "outputs": [
    {
     "name": "stdout",
     "output_type": "stream",
     "text": [
      "Downloading data from https://storage.googleapis.com/tensorflow/tf-keras-datasets/mnist.npz\n",
      "11493376/11490434 [==============================] - 3s 0us/step\n"
     ]
    }
   ],
   "source": [
    "# загрузка датасета\n",
    "(train_x, train_y), (test_x, test_y) = tf.keras.datasets.mnist.load_data()"
   ]
  },
  {
   "cell_type": "code",
   "execution_count": 12,
   "metadata": {},
   "outputs": [
    {
     "data": {
      "text/plain": [
       "(60000, 28, 28)"
      ]
     },
     "execution_count": 12,
     "metadata": {},
     "output_type": "execute_result"
    }
   ],
   "source": [
    "train_x.shape"
   ]
  },
  {
   "cell_type": "code",
   "execution_count": 13,
   "metadata": {},
   "outputs": [],
   "source": [
    "# Меняем размерность тензора в размер нужный для нейросети и переводим данные из диапазона \n",
    "# от 0 до 255 в диапазон от 0 до 1 и тип float32\n",
    "train_x = train_x.reshape(-1, 28, 28, 1).astype(np.float32) / 255\n",
    "test_x = test_x.reshape(-1, 28, 28, 1).astype(np.float32) / 255"
   ]
  },
  {
   "cell_type": "code",
   "execution_count": 14,
   "metadata": {},
   "outputs": [],
   "source": [
    "# Приводим тип данных Y в тип int32\n",
    "train_y = train_y.astype(np.int32)\n",
    "test_y = test_y.astype(np.int32)"
   ]
  },
  {
   "cell_type": "code",
   "execution_count": 15,
   "metadata": {},
   "outputs": [
    {
     "name": "stdout",
     "output_type": "stream",
     "text": [
      "(60000, 28, 28, 1) float32\n",
      "(10000, 28, 28, 1) float32\n",
      "(60000,) int32\n",
      "(10000,) int32\n"
     ]
    }
   ],
   "source": [
    "print(train_x.shape, train_x.dtype)\n",
    "print(test_x.shape, test_x.dtype)\n",
    "print(train_y.shape, train_y.dtype)\n",
    "print(test_y.shape, test_y.dtype)"
   ]
  },
  {
   "cell_type": "code",
   "execution_count": 16,
   "metadata": {},
   "outputs": [
    {
     "data": {
      "image/png": "[encoded data removed]",
      "text/plain": [
       "<Figure size 720x432 with 32 Axes>"
      ]
     },
     "metadata": {},
     "output_type": "display_data"
    }
   ],
   "source": [
    "# Посмотрим на последние 32 цифры\n",
    "some_samples = train_x[:32, ...]\n",
    "\n",
    "fig = plt.figure(figsize=(10, 6))\n",
    "for j in range(some_samples.shape[0]):\n",
    "    ax = fig.add_subplot(4, 8, j+1)\n",
    "    ax.imshow(some_samples[j,:,:,0], cmap='gray')\n",
    "    plt.xticks([]), plt.yticks([])\n",
    "plt.show()"
   ]
  },
  {
   "cell_type": "code",
   "execution_count": 17,
   "metadata": {},
   "outputs": [],
   "source": [
    "class Model(tf.keras.Model):\n",
    "    \"\"\"\n",
    "    Класс модели. Наследуется от Model\n",
    "    \"\"\"\n",
    "    def __init__(self):\n",
    "        super(Model, self).__init__()\n",
    "        # Свертрчные слои с размерностью выходного пространства 32 и 64, с окном свертки 5х5, функция активации\n",
    "        # relu и равномерным заполнением слоев\n",
    "        self.conv1 = tf.keras.layers.Conv2D(32, (5, 5), activation='relu', padding='same')\n",
    "        self.conv2 = tf.keras.layers.Conv2D(64, (5, 5), activation='relu', padding='same')\n",
    "        # Полносвязные слои с размерностью выходного пространства 256 и 10, с функцией активации relu и без нее\n",
    "        self.fc1 = tf.keras.layers.Dense(256, activation='relu')\n",
    "        self.fc2 = tf.keras.layers.Dense(10, activation=None)\n",
    "        # Cлой объединения с размером окна 2х2 и шагом 2х2\n",
    "        self.max_pool = tf.keras.layers.MaxPooling2D((2, 2), (2, 2))\n",
    "        # Слой, сглаживающий ввод\n",
    "        self.flatten = tf.keras.layers.Flatten()\n",
    "        \n",
    "    def call(self, inp):\n",
    "        \"\"\"\n",
    "        Переопределяем функцию вызова. Собирает слои в модель\n",
    "        \"\"\"\n",
    "        out = self.conv1(inp)\n",
    "        out = self.max_pool(out)\n",
    "        out = self.conv2(out)\n",
    "        out = self.max_pool(out)\n",
    "        out = self.flatten(out)\n",
    "        out = self.fc1(out)\n",
    "        out = self.fc2(out)\n",
    "        \n",
    "        return out"
   ]
  },
  {
   "cell_type": "code",
   "execution_count": 19,
   "metadata": {},
   "outputs": [],
   "source": [
    "# Создадим функцию потерь\n",
    "def loss(logits, labels):\n",
    "    return tf.reduce_mean(tf.nn.sparse_softmax_cross_entropy_with_logits(logits=logits, labels=labels))"
   ]
  },
  {
   "cell_type": "code",
   "execution_count": 20,
   "metadata": {},
   "outputs": [],
   "source": [
    "# Создадим функцию точности\n",
    "def accuracy(logits, labels):\n",
    "    predictions = tf.argmax(logits, axis=1, output_type=tf.int32)\n",
    "    return tf.reduce_mean(tf.cast(tf.equal(predictions, labels), dtype=tf.float32))"
   ]
  },
  {
   "cell_type": "code",
   "execution_count": 21,
   "metadata": {},
   "outputs": [],
   "source": [
    "# Зададим глобальные переменные\n",
    "\n",
    "# Количество эпох обучения модели\n",
    "NUM_EPOCHS = 4\n",
    "# Размер пакета\n",
    "BATCH_SIZE = 64\n",
    "# Шаг обучения\n",
    "LEARNING_RATE = 0.001"
   ]
  },
  {
   "cell_type": "code",
   "execution_count": 22,
   "metadata": {},
   "outputs": [],
   "source": [
    "# Подготовим данные для обучения\n",
    "\n",
    "# Создаем срезы тензоров из тренировочных данных\n",
    "train_ds = tf.data.Dataset.from_tensor_slices((train_x, train_y))\n",
    "# Случайным образом перемешиваем данные\n",
    "train_ds = train_ds.shuffle(buffer_size=train_x.shape[0])\n",
    "# Повторяем данные по количеству эпох\n",
    "train_ds = train_ds.repeat(NUM_EPOCHS)\n",
    "# Создаем пакеты данных\n",
    "train_ds = train_ds.batch(BATCH_SIZE)"
   ]
  },
  {
   "cell_type": "code",
   "execution_count": 23,
   "metadata": {},
   "outputs": [],
   "source": [
    "# Создадим функцию оптимизации\n",
    "optimizer = tf.keras.optimizers.Adam(LEARNING_RATE)"
   ]
  },
  {
   "cell_type": "code",
   "execution_count": 24,
   "metadata": {},
   "outputs": [],
   "source": [
    "# Создадим файл для записи результатов оптимизации\n",
    "writer = tf.summary.create_file_writer('logs/adam')"
   ]
  },
  {
   "cell_type": "code",
   "execution_count": 25,
   "metadata": {},
   "outputs": [],
   "source": [
    "# Создадим модель\n",
    "model = Model()"
   ]
  },
  {
   "cell_type": "code",
   "execution_count": 27,
   "metadata": {},
   "outputs": [
    {
     "name": "stdout",
     "output_type": "stream",
     "text": [
      "[   0] Accuracy: 20.70 %\n",
      "[ 200] Accuracy: 99.22 %\n",
      "[ 400] Accuracy: 99.22 %\n",
      "[ 600] Accuracy: 99.61 %\n",
      "[ 800] Accuracy: 100.00 %\n",
      "[1000] Accuracy: 99.22 %\n",
      "[1200] Accuracy: 97.66 %\n",
      "[1400] Accuracy: 99.22 %\n",
      "[1600] Accuracy: 100.00 %\n",
      "[1800] Accuracy: 99.61 %\n",
      "[2000] Accuracy: 100.00 %\n",
      "[2200] Accuracy: 99.61 %\n",
      "[2400] Accuracy: 99.22 %\n",
      "[2600] Accuracy: 98.44 %\n",
      "[2800] Accuracy: 99.61 %\n",
      "[3000] Accuracy: 100.00 %\n",
      "[3200] Accuracy: 99.61 %\n",
      "[3400] Accuracy: 99.22 %\n",
      "[3600] Accuracy: 99.61 %\n"
     ]
    }
   ],
   "source": [
    "# Обучим модель\n",
    "\n",
    "for iteration, (images, labels) in enumerate(train_ds):\n",
    "    \n",
    "    # Forward\n",
    "    with tf.GradientTape() as tape:\n",
    "        logits = model(images)\n",
    "        loss_value = loss(logits, labels)\n",
    "        \n",
    "    # Backward\n",
    "    grads = tape.gradient(loss_value, model.trainable_variables)\n",
    "    optimizer.apply_gradients(zip(grads, model.trainable_variables))\n",
    "    \n",
    "    # Calc and display loss/accuracy\n",
    "    if iteration % 200 == 0:\n",
    "        test_logits = model(test_x[:256, ...])\n",
    "        accuracy_value = accuracy(test_logits, test_y[:256, ...])\n",
    "        \n",
    "        print(\"[%4d] Accuracy: %5.2f %%\" % (\n",
    "            iteration, accuracy_value.numpy()*100))\n",
    "        \n",
    "        with writer.as_default():\n",
    "            tf.summary.scalar('accuracy', accuracy_value, iteration)\n",
    "            tf.summary.scalar('loss', loss_value, iteration)"
   ]
  },
  {
   "cell_type": "code",
   "execution_count": 29,
   "metadata": {},
   "outputs": [
    {
     "name": "stdout",
     "output_type": "stream",
     "text": [
      "Final Accuracy: 99.02%\n"
     ]
    }
   ],
   "source": [
    "# Оценка качества модели\n",
    "test_logits = model(test_x)\n",
    "accuracy_value = accuracy(test_logits, test_y).numpy()\n",
    "print(f\"Final Accuracy: {(accuracy_value * 100):.2f}%\")"
   ]
  },
  {
   "cell_type": "code",
   "execution_count": 30,
   "metadata": {},
   "outputs": [],
   "source": [
    "def test_item(sample):\n",
    "    \"\"\"\n",
    "    Функция для предсказания\n",
    "    \"\"\"\n",
    "    logits = model(sample[None, ...])[0]\n",
    "    prediction = tf.nn.softmax(logits)\n",
    "    ans = np.argmax(prediction)\n",
    "    \n",
    "    fig = plt.figure(figsize=(12,4))\n",
    "\n",
    "    ax = fig.add_subplot(1, 2, 1)\n",
    "    ax.imshow(sample[:,:,0], cmap='gray')\n",
    "    plt.xticks([]), plt.yticks([])\n",
    "\n",
    "    ax = fig.add_subplot(1, 2, 2)\n",
    "    bar_list = ax.bar(np.arange(10), prediction, align='center')\n",
    "    bar_list[ans].set_color('g')\n",
    "    ax.set_xticks(np.arange(10))\n",
    "    ax.set_xlim([-1, 10])\n",
    "    ax.grid(True)\n",
    "\n",
    "    plt.show()\n",
    "    \n",
    "    print(f'Predicted: {ans}')"
   ]
  },
  {
   "cell_type": "code",
   "execution_count": 32,
   "metadata": {},
   "outputs": [
    {
     "data": {
      "image/png": "[encoded data removed]",
      "text/plain": [
       "<Figure size 864x288 with 2 Axes>"
      ]
     },
     "metadata": {
      "needs_background": "light"
     },
     "output_type": "display_data"
    },
    {
     "name": "stdout",
     "output_type": "stream",
     "text": [
      "Predicted: 6\n",
      "True Answer: 6\n"
     ]
    }
   ],
   "source": [
    "# Предсказание случайной цифры из MNIST\n",
    "import random\n",
    "idx = random.randint(0, test_x.shape[0])\n",
    "sample = test_x[idx, ...]\n",
    "test_item(sample)\n",
    "\n",
    "print(f'True Answer: {test_y[idx]}')"
   ]
  },
  {
   "cell_type": "code",
   "execution_count": null,
   "metadata": {},
   "outputs": [],
   "source": []
  }
 ],
 "metadata": {
  "kernelspec": {
   "display_name": "Python 3",
   "language": "python",
   "name": "python3"
  },
  "language_info": {
   "codemirror_mode": {
    "name": "ipython",
    "version": 3
   },
   "file_extension": ".py",
   "mimetype": "text/x-python",
   "name": "python",
   "nbconvert_exporter": "python",
   "pygments_lexer": "ipython3",
   "version": "3.7.4"
  }
 },
 "nbformat": 4,
 "nbformat_minor": 2
}
