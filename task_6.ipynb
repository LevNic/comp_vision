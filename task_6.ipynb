{
  "nbformat": 4,
  "nbformat_minor": 0,
  "metadata": {
    "colab": {
      "name": "task_6.ipynb",
      "provenance": []
    },
    "kernelspec": {
      "name": "python3",
      "display_name": "Python 3"
    }
  },
  "cells": [
    {
      "cell_type": "markdown",
      "metadata": {
        "id": "qecx3hbET4Qj"
      },
      "source": [
        "Обучить сиамскую сеть для верификации лиц на датасете LFW"
      ]
    },
    {
      "cell_type": "code",
      "metadata": {
        "id": "r8Hmw1bOTtiM"
      },
      "source": [
        ""
      ],
      "execution_count": null,
      "outputs": []
    }
  ]
}